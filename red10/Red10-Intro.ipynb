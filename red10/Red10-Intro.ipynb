{
 "cells": [
  {
   "cell_type": "markdown",
   "metadata": {
    "slideshow": {
     "slide_type": "slide"
    }
   },
   "source": [
    "![Intro](http://i.imgur.com/65dsKzX.png)"
   ]
  },
  {
   "cell_type": "markdown",
   "metadata": {
    "slideshow": {
     "slide_type": "slide"
    }
   },
   "source": [
    "### Why build Red10?\n",
    "\n",
    "I wanted to use machine learning to accurately predict buy and sell opportunities for stocks.\n",
    "\n",
    "While building the original version, I realized how important having a machine learning data store is to this type of intelligent application stack. Today's talk is about using Redis as a database for 1000s of machine learning models. By using Redis as the data store, it allows my team to focus on making better predictions through iterative improvements in an ever-changing market.\n",
    "\n",
    "Once the API was defined, I realized this approach would work for any dataset...not just playing stocks. (Please see Appendix D for how Red10 works with the IRIS dataset)\n",
    "\n",
    "#### Objectives\n",
    "\n",
    "1. Enable dataset evolution and feature engineering - create 1000s of machine learning models and find the best performing ones as you refine your data\n",
    "1. Manage **unique** machine learning models - how can I find accurate models and benchmark them?\n",
    "1. Apply **DevOps for machine learning** - treat models like build artifacts\n",
    "1. Simple iterative workflow: upload dataset, run job, evaluate\n",
    "1. Automatic analysis, model training, prediction and forecasting supported out of the box\n",
    "1. Export/Import models across environments\n",
    "1. Running pre-trained machine learning models on IoT, healthcare, drones, other resource constrained environments wanting predictive capabilities"
   ]
  },
  {
   "cell_type": "markdown",
   "metadata": {
    "slideshow": {
     "slide_type": "slide"
    }
   },
   "source": [
    "### What is a Machine Learning Model?\n",
    "\n",
    "An algorithm is the general approach you will take. The model is what you get when you run the algorithm over your training data and what you use to make predictions on new data. You can generate a new model with the same algorithm with different data, or a different model from the same data with a different algorithm.\n",
    "\n",
    "Source: https://www.quora.com/What-is-the-difference-between-machine-learning-model-and-ML-algorithm\n",
    "\n",
    "Please refer to [Appendix G](https://redten.io:8900/notebooks/notebooks/redten/RedTen-Intro.ipynb#Appendix-G---Terminology-and-Definitions) for more defintions."
   ]
  },
  {
   "cell_type": "markdown",
   "metadata": {
    "slideshow": {
     "slide_type": "slide"
    }
   },
   "source": [
    "### Machine Learning Example\n",
    "\n",
    "Iterative approach for navigating data to find the best predictions\n",
    "\n",
    "![Iterative approach for navigating data to find the best predictions](http://i.imgur.com/fAZGfFY.jpg)"
   ]
  },
  {
   "cell_type": "markdown",
   "metadata": {
    "slideshow": {
     "slide_type": "slide"
    }
   },
   "source": [
    "#### Navigating with a \"simple\" Model configuration - Test 1\n",
    "\n",
    "![Models learn by trial/error through data - here is a possible outcome](http://i.imgur.com/2QdciOm.jpg)"
   ]
  },
  {
   "cell_type": "markdown",
   "metadata": {
    "collapsed": true,
    "slideshow": {
     "slide_type": "slide"
    }
   },
   "source": [
    "#### Navigating with a different Model configuration - Test 2\n",
    "\n",
    "![Models learn by trial/error through data - here is a possible outcome](http://i.imgur.com/blyf8LT.jpg)"
   ]
  },
  {
   "cell_type": "markdown",
   "metadata": {
    "collapsed": true,
    "slideshow": {
     "slide_type": "slide"
    }
   },
   "source": [
    "#### Navigating with a different Model configuration - Test 3\n",
    "\n",
    "![Models learn by trial/error through data - here is a possible outcome](http://i.imgur.com/m8aEYZz.jpg)"
   ]
  },
  {
   "cell_type": "markdown",
   "metadata": {
    "collapsed": true,
    "slideshow": {
     "slide_type": "slide"
    }
   },
   "source": [
    "#### Navigating with a different Model configuration - Test 4\n",
    "\n",
    "![Models learn by trial/error through data - here is a possible outcome](http://i.imgur.com/nvDohTD.jpg)"
   ]
  },
  {
   "cell_type": "markdown",
   "metadata": {
    "collapsed": true,
    "slideshow": {
     "slide_type": "slide"
    }
   },
   "source": [
    "#### Navigating with the best case Model configuration\n",
    "\n",
    "![Models learn by trial/error through data - here is a possible outcome](http://i.imgur.com/WfAhHlm.jpg)"
   ]
  },
  {
   "cell_type": "markdown",
   "metadata": {
    "slideshow": {
     "slide_type": "slide"
    }
   },
   "source": [
    "### Redis as a Machine Learning Data Store\n",
    "\n",
    "Redis is a great scalable, in-memory storage solution for handling CRUD machine learning use cases.\n",
    "\n",
    "#### Origin\n",
    "After using Redis for years to handle: caching, pub/sub and auto-reloading capabilities on restart, it was an obvious first choice as a scalable storage solution for many pre-trained machine learning models. In my humble opinion, pulling gigabytes of pickled objects from a database would take too long and is not an ideal use case for a relational or nosql database (mysql/postgres/oracle/mongo).\n",
    "\n",
    "#### Redis Machine Learning Data Store Responsibilities\n",
    "\n",
    "1. Store pre-trained models (it takes time and compute power to build them)\n",
    "1. Store model accuracies and predictions (this may be broken out into a separate instance in the future)\n",
    "1. Provide an API for making new predictions from stored models\n",
    "1. Provide a naming system for tracking deployed models across environments (focused on reducing model in-memory collisions)\n",
    "1. Provide a model deployment API (import/export) - DevOps for machine learning\n",
    "1. Implement automatic model reloading - using rdb snapshots\n",
    "1. Stability and scaling"
   ]
  },
  {
   "cell_type": "markdown",
   "metadata": {
    "slideshow": {
     "slide_type": "slide"
    }
   },
   "source": [
    "## Over 10,000 Machine Learning Models\n",
    "\n",
    "Here's an analysis of the Redis machine learning data store after it broke through 10,000 pre-trained models in-memory.\n",
    "\n",
    "__Anyone that can use a REST API can use Red10 to do the same thing__"
   ]
  },
  {
   "cell_type": "code",
   "execution_count": 1,
   "metadata": {
    "slideshow": {
     "slide_type": "slide"
    }
   },
   "outputs": [
    {
     "name": "stdout",
     "output_type": "stream",
     "text": [
      "\u001b[32mLogged in: https://redten.io\u001b[0m\n",
      "\n",
      "\u001b[32mStarting Redis Key Analysis: 2017-05-23 18:20:04\u001b[0m\n",
      "\n",
      "\u001b[32mIRIS models=18\u001b[0m\n",
      "\u001b[32mSPY models=2263\u001b[0m\n",
      "\u001b[32mXLE models=2077\u001b[0m\n",
      "\u001b[32mXLF models=2170\u001b[0m\n",
      "\u001b[32mXLI models=2108\u001b[0m\n",
      "\u001b[32mXLU models=2170\u001b[0m\n",
      "\n",
      "---------------------------------------------\n",
      "\u001b[33mTotal Pre-trained Machine Learning Models in Redis:\u001b[0m\n",
      "\u001b[31m10806\u001b[0m\n",
      "---------------------------------------------\n",
      "\n"
     ]
    }
   ],
   "source": [
    "from __future__ import print_function\n",
    "import sys, os, requests, json, datetime\n",
    "\n",
    "# Load the environment and login the user\n",
    "from src.common.load_redten_ipython_env import user_token, user_login, csv_file, run_job, core, api_urls, ppj, rt_url, rt_user, rt_pass, rt_email, lg, good, boom, anmt, mark, ppj, uni_key, rest_login_as_user, rest_full_login, wait_for_job_to_finish, wait_on_job, get_job_analysis, get_job_results, get_analysis_manifest, get_job_cache_manifest, build_prediction_results, build_forecast_results, get_job_cache_manifest, search_ml_jobs, show_logs, show_errors, ipyImage, ipyHTML, ipyDisplay, pd, np\n",
    "\n",
    "# header\n",
    "lg(\"\")\n",
    "good(\"Starting Redis Key Analysis: \" + str(datetime.datetime.now().strftime(\"%Y-%m-%d %H:%M:%S\")))\n",
    "lg(\"\")\n",
    "\n",
    "# store the model mappings by dataset name\n",
    "models_iris = {}\n",
    "models_spy = {}\n",
    "models_xle = {}\n",
    "models_xlf = {}\n",
    "models_xli = {}\n",
    "models_xlu = {}\n",
    "total_models_in_redis = 0\n",
    "\n",
    "# walk the redis dbs\n",
    "for db_idx in range(0, 16):\n",
    "    \n",
    "    db_file = \"/tmp/db-\" + str(db_idx) + \"-keys\"\n",
    "    os.system(\"echo \\\"select \" + str(db_idx) + \" \\n keys *\\\" | redis-cli -p 6100 > \" + str(db_file))\n",
    "    database_keys = {}\n",
    "    if os.path.exists(db_file): # if the file exists\n",
    "        with open(db_file) as f: # open it\n",
    "            lines_to_parse = f.readlines() # read all the lines\n",
    "            for org_line in lines_to_parse:\n",
    "                cur_line = org_line.rstrip(\"\\n\").strip().lstrip() # remove the newline and any other whitespace\n",
    "                if str(cur_line) != \"OK\" and str(cur_line) != \"\":\n",
    "                    database_keys[cur_line] = True\n",
    "                # if it's not the redis OK response or an empty string\n",
    "            # for all lines\n",
    "        # with the db file open\n",
    "    else:\n",
    "        boom(\"Failed parsing Redis db_file=\" + str(db_file))\n",
    "    # end of parsing db_file\n",
    "    \n",
    "    if len(database_keys) > 1:\n",
    "        for idx,k in enumerate(database_keys):\n",
    "\n",
    "            # ignore the predictions and accuracies\n",
    "            if \"_PredictionsDF\" not in k and \"_Accuracy\" not in k:\n",
    "                num_underscores = len(str(k).split(\"_\"))\n",
    "\n",
    "                # ignore the analysis/manifest keys\n",
    "                if num_underscores > 2:\n",
    "                    if \"_IRIS\" in k:\n",
    "                        models_iris[k] = True\n",
    "                        total_models_in_redis += 1\n",
    "                    elif \"_SPY\" in k:\n",
    "                        models_spy[k] = True\n",
    "                        total_models_in_redis += 1\n",
    "                    elif \"_XLE\" in k:\n",
    "                        models_xle[k] = True\n",
    "                        total_models_in_redis += 1\n",
    "                    elif \"_XLF\" in k:\n",
    "                        models_xlf[k] = True\n",
    "                        total_models_in_redis += 1\n",
    "                    elif \"_XLI\" in k:   \n",
    "                        models_xli[k] = True \n",
    "                        total_models_in_redis += 1    \n",
    "                    elif \"_XLU\" in k:   \n",
    "                        models_xlu[k] = True \n",
    "                        total_models_in_redis += 1\n",
    "                # end of checking it's not an analysis/manifest key\n",
    "                \n",
    "            # end of if it's not a prediction and not an accuarcy key\n",
    "        # for the large db keyset\n",
    "\n",
    "        lg(\"IRIS models=\" + str(len(models_iris)), 5)\n",
    "        lg(\"SPY models=\" + str(len(models_spy)), 5)\n",
    "        lg(\"XLE models=\" + str(len(models_xle)), 5)\n",
    "        lg(\"XLF models=\" + str(len(models_xlf)), 5)\n",
    "        lg(\"XLI models=\" + str(len(models_xli)), 5)\n",
    "        lg(\"XLU models=\" + str(len(models_xlu)), 5)\n",
    "\n",
    "        lg(\"\")\n",
    "        lg(\"---------------------------------------------\")\n",
    "        anmt(\"Total Pre-trained Machine Learning Models in Redis:\")\n",
    "        boom(str(total_models_in_redis))\n",
    "        lg(\"---------------------------------------------\")\n",
    "        lg(\"\")\n",
    "        \n",
    "    # end of if there's database keys in the redis instance\n",
    "# end for all db files"
   ]
  },
  {
   "cell_type": "markdown",
   "metadata": {
    "slideshow": {
     "slide_type": "slide"
    }
   },
   "source": [
    "### Redis Machine Learning Data Store in Action\n",
    "\n",
    "Here's the machine learning data store saving all +10,000 pre-trained machine learning models to an rdb file which can then be moved to other environments and entirely different systems to make predictions.\n",
    "\n",
    "![Storing Over 10000 Pre-trained Machine Learning Models in Redis](http://i.imgur.com/5waiLdD.gif)"
   ]
  },
  {
   "cell_type": "markdown",
   "metadata": {
    "slideshow": {
     "slide_type": "slide"
    }
   },
   "source": [
    "## Generalized Data Science Workflow\n",
    "\n",
    "1. Understanding what is important to the product or business - What can we improve?\n",
    "1. Iterating on datasets (collect, build, define, implement, feature engineering, etc.)\n",
    "1. Teaching algorithms to make predictions - What algorithm(s) should we use?\n",
    "1. Evaluating predictive success - How can we benchmark success between models?\n",
    "1. Model tuning - Can we improve the success rate by changing how the model learns?\n",
    "1. Model deployment - How do we take this awesome model to production or deploy it to a mobile app/IoT/drone?\n",
    "1. Regression testing predictive success with new data points - How good is that model from last year (model deprecation)? \n",
    "\n",
    "\n",
    "__Additional reading__\n",
    "- https://www.quora.com/What-is-a-typical-day-like-as-a-data-scientist\n",
    "- http://www.kdnuggets.com/2016/11/ibm-dsx-data-science-experience.html\n",
    "- https://www.teamleada.com/handbook"
   ]
  },
  {
   "cell_type": "markdown",
   "metadata": {
    "slideshow": {
     "slide_type": "slide"
    }
   },
   "source": [
    "## The Machine Learning Ecosystem\n",
    "\n",
    "Great tools with a complex, ever-changing user manual\n",
    "\n",
    "#### Perception\n",
    "![Space man...space](http://i.imgur.com/Sz7EUCA.jpg)"
   ]
  },
  {
   "cell_type": "markdown",
   "metadata": {
    "slideshow": {
     "slide_type": "slide"
    }
   },
   "source": [
    "#### And the Reality\n",
    "\n",
    "Sorry kerbals. We'll get to space next time I promise!\n",
    "\n",
    "![Space is super easy](http://i.imgur.com/BnFxfAu.gif)"
   ]
  },
  {
   "cell_type": "markdown",
   "metadata": {
    "slideshow": {
     "slide_type": "slide"
    }
   },
   "source": [
    "definitely a data problem..."
   ]
  },
  {
   "cell_type": "markdown",
   "metadata": {
    "slideshow": {
     "slide_type": "slide"
    }
   },
   "source": [
    "## The toolchains\n",
    "\n",
    "#### Easy to use vs granular control\n",
    "\n",
    "![Space Shuttle Endeavour's Control Panels](http://i.imgur.com/gkPWm7I.jpg)"
   ]
  },
  {
   "cell_type": "markdown",
   "metadata": {
    "slideshow": {
     "slide_type": "slide"
    }
   },
   "source": [
    "### What data can we use?\n",
    "\n",
    "1. Pricing\n",
    "1. Sales\n",
    "1. User events\n",
    "1. Accounting\n",
    "1. Real Estate\n",
    "1. Fraud\n",
    "1. Risk\n",
    "1. Does it have numbers?\n"
   ]
  },
  {
   "cell_type": "markdown",
   "metadata": {
    "slideshow": {
     "slide_type": "slide"
    }
   },
   "source": [
    "### What algorithm should we use?\n",
    "\n",
    "1. Who wins the Kaggle competitions? [eXtreme gradient boosting (XGB) won a bunch in 2016](http://www.kdnuggets.com/2016/03/xgboost-implementing-winningest-kaggle-algorithm-spark-flink.html)\n",
    "\n",
    "1. Many, many more choices\n",
    "![Linear Regression](http://i.imgur.com/ChidNeu.png)\n",
    "(source: http://aiplaybook.a16z.com/docs/guides/dl)\n",
    "\n",
    "1. Start iterating in a notebook\n",
    "http://nbviewer.jupyter.org/github/jmsteinw/Notebooks/blob/master/XG_Boost_NB.ipynb"
   ]
  },
  {
   "cell_type": "markdown",
   "metadata": {
    "slideshow": {
     "slide_type": "slide"
    }
   },
   "source": [
    "## How does XGB work?\n",
    "\n",
    "#### 1. Time is a factor when training models\n",
    "\n",
    "![Unique Models](http://i.imgur.com/rbRvbas.png)"
   ]
  },
  {
   "cell_type": "markdown",
   "metadata": {
    "slideshow": {
     "slide_type": "slide"
    }
   },
   "source": [
    "#### 2. Highly parameterized\n",
    "\n",
    "```\n",
    "def __init__(self, max_depth=3, learning_rate=0.1, n_estimators=100,\n",
    "                 silent=True, objective=\"reg:linear\",\n",
    "                 nthread=-1, gamma=0, min_child_weight=1, max_delta_step=0,\n",
    "                 subsample=1, colsample_bytree=1, colsample_bylevel=1,\n",
    "                 reg_alpha=0, reg_lambda=1, scale_pos_weight=1,\n",
    "                 base_score=0.5, seed=0, missing=None):\n",
    "```\n",
    "https://github.com/dmlc/xgboost/blob/master/python-package/xgboost/sklearn.py"
   ]
  },
  {
   "cell_type": "markdown",
   "metadata": {
    "slideshow": {
     "slide_type": "slide"
    }
   },
   "source": [
    "## What's the support story?"
   ]
  },
  {
   "cell_type": "markdown",
   "metadata": {
    "slideshow": {
     "slide_type": "slide"
    }
   },
   "source": [
    "#### 1. Updates are a breeze\n",
    "\n",
    "![Don't worry I got this](https://media.giphy.com/media/2ZFuPKWcSw16E/giphy.gif)"
   ]
  },
  {
   "cell_type": "markdown",
   "metadata": {
    "slideshow": {
     "slide_type": "slide"
    }
   },
   "source": [
    "#### 2. You're gonna need a bigger boat\n",
    "\n",
    "![Eats memory like pacman...chomp](http://i.imgur.com/KTVTwIh.png)"
   ]
  },
  {
   "cell_type": "markdown",
   "metadata": {
    "slideshow": {
     "slide_type": "slide"
    }
   },
   "source": [
    "#### 3. What if we just add some new data for this conference?\n",
    "\n",
    "SELL SELL SELL!\n",
    "\n",
    "![awww yea my own flash crash indicator perfect](http://i.imgur.com/qSAtWX2.png)"
   ]
  },
  {
   "cell_type": "markdown",
   "metadata": {
    "slideshow": {
     "slide_type": "slide"
    }
   },
   "source": [
    "#### 4. More data does not always lead to better predictions\n",
    "\n",
    "![Just Keep Stirring](http://i.imgur.com/rxGROk8.png)"
   ]
  },
  {
   "cell_type": "markdown",
   "metadata": {
    "slideshow": {
     "slide_type": "slide"
    }
   },
   "source": [
    "### How does Red10 work?\n",
    "\n",
    "1. Two modes: manual and cloud service\n",
    "1. Runs anywhere with docker (virtualbox, on-prem, AWS, OpenShift, Swarm, Kubernetes)\n",
    "\n",
    "Please refer to [Appendix A](https://redten.io:8900/notebooks/notebooks/redten/RedTen-Intro.ipynb#Appendix-A---What-is-Red10?) for more details on Red10's architecture."
   ]
  },
  {
   "cell_type": "markdown",
   "metadata": {
    "slideshow": {
     "slide_type": "slide"
    }
   },
   "source": [
    "### 1. Original, manual version using the GitHub Repo\n",
    "\n",
    "The github repo: https://github.com/jay-johnson/sci-pype is built for using this workflow:\n",
    "\n",
    "![Sci-pype Machine Learning Workflow](http://i.imgur.com/UsLbBE2.jpg)"
   ]
  },
  {
   "cell_type": "markdown",
   "metadata": {
    "slideshow": {
     "slide_type": "slide"
    }
   },
   "source": [
    "#### 2. Red10 - multi-tenant, machine learning REST API built with Jupyter integration\n",
    "\n",
    "![AWS Deployment](http://i.imgur.com/LD1jvKY.png)"
   ]
  },
  {
   "cell_type": "markdown",
   "metadata": {
    "slideshow": {
     "slide_type": "slide"
    }
   },
   "source": [
    "### Where can this be used?\n",
    "\n",
    "![Machine Learning Use Cases](http://i.imgur.com/Ua49NAP.jpg)\n",
    "\n",
    "Using Red10 for price forecasting:\n",
    "\n",
    "### What's next?\n",
    "\n",
    "##### [Pricing Multi-Model Forecast](https://redten.io/forecast/) \n",
    "\n",
    "Please refer to the appendices for architecture slides and developer-centric tooling for reviewing offline."
   ]
  },
  {
   "cell_type": "markdown",
   "metadata": {
    "slideshow": {
     "slide_type": "slide"
    }
   },
   "source": [
    "### Appendix A - What is Red10?\n",
    "\n",
    "1. A containerized, distributed machine learning platform for streamlining analysis to build higly predictive models\n",
    "1. Multi-tenant REST API wrapping https://github.com/jay-johnson/sci-pype inside of Django REST Framework with JWT authentication.\n",
    "1. Users build, train and predict using machine learning models (https://github.com/dmlc/xgboost) housed in Redis (Tensorflow coming soon).\n",
    "1. Export and import pre-trained models with archival to S3.\n",
    "1. Use the same API to make new predictions using pre-trained models.\n",
    "1. Streamline analysis - every column in a dataset will be analyzed and compared.\n",
    "1. Ensemble learning - every column gets a distinct, trained model for helping improve predictive accuracy.\n",
    "1. Horizontally scalable machine learning cloud - maximize infrastructure by scaling up the number of Celery workers consuming published jobs out of Redis.\n",
    "1. S3 integration - images, analysis, predictions, export + import pre-trained models, manifest file.\n",
    "1. Security (pre-trained models, analysis, predictions) - the user must present a secret key to access any of the machine learning job's analysis and predictions.\n",
    "1. Swagger API - easy to build new web applications derived from the service layer.\n",
    "1. Centralized logging (Elasticsearch + Logstash + Kibana) - logs from Django REST Framework + Celery are published to logstash over Redis.\n",
    "1. Search historical analysis using Elasticsearch - machine learning jobs are automatically published as json documents to Elasticsearch on successful completion.\n",
    "1. Dockerized - runs anywhere with docker (virtualbox, on-prem, AWS, OpenShift, Swarm, K8).\n"
   ]
  },
  {
   "cell_type": "markdown",
   "metadata": {
    "slideshow": {
     "slide_type": "slide"
    }
   },
   "source": [
    "### Appendix B - Red10 Machine Learning Workflow"
   ]
  },
  {
   "cell_type": "markdown",
   "metadata": {
    "slideshow": {
     "slide_type": "slide"
    }
   },
   "source": [
    "### Build, Train, Analyze and Store\n",
    "\n",
    "![Easy as 1-2-3](http://i.imgur.com/HuRpcws.png)"
   ]
  },
  {
   "cell_type": "markdown",
   "metadata": {
    "slideshow": {
     "slide_type": "slide"
    }
   },
   "source": [
    "### Make New Predictions\n",
    "\n",
    "![Once trained and stored, new predictions use the same api](http://i.imgur.com/XWBZiGz.png)"
   ]
  },
  {
   "cell_type": "markdown",
   "metadata": {
    "slideshow": {
     "slide_type": "slide"
    }
   },
   "source": [
    "### Moving Model Artifacts - Export / Import\n",
    "\n",
    "![Treat trained models like build artifacts](http://i.imgur.com/TyDi3xD.png)\n"
   ]
  },
  {
   "cell_type": "markdown",
   "metadata": {
    "slideshow": {
     "slide_type": "slide"
    }
   },
   "source": [
    "## Appendix C - Red10 Manifest Mapping to Models in Redis "
   ]
  },
  {
   "cell_type": "markdown",
   "metadata": {
    "slideshow": {
     "slide_type": "slide"
    }
   },
   "source": [
    "### Storing Multiple Models in Redis\n",
    "\n",
    "![Forecast storing multiple models in Redis](http://i.imgur.com/oDS9iSE.gif)"
   ]
  },
  {
   "cell_type": "markdown",
   "metadata": {
    "slideshow": {
     "slide_type": "slide"
    }
   },
   "source": [
    "### Analysis Archival in S3\n",
    "\n",
    "![Bucket per user or co-located](http://i.imgur.com/lEET3Fx.png)\n",
    "\n"
   ]
  },
  {
   "cell_type": "markdown",
   "metadata": {
    "slideshow": {
     "slide_type": "slide"
    }
   },
   "source": [
    "### Appendix D - Additional Presentations\n",
    "\n",
    "##### 1. [IRIS Multi-Model Predictions](https://redten.io/predictions/)\n",
    "##### 2. [Screen recorded - IRIS Multi-Model Predictions](https://redten.io/recorded-iris/)\n",
    "##### 3. [Screen recorded - Pricing Multi-Model Forecast](https://redten.io/recorded-forecast/) "
   ]
  },
  {
   "cell_type": "markdown",
   "metadata": {
    "slideshow": {
     "slide_type": "slide"
    }
   },
   "source": [
    "### Appendix E - Redis Key Overview (Non-ML Data Store)\n",
    "\n",
    "Here is an overview of how Red10 uses Redis databases and keys for handling everything outside of the machine learning use cases."
   ]
  },
  {
   "cell_type": "code",
   "execution_count": 2,
   "metadata": {
    "slideshow": {
     "slide_type": "slide"
    }
   },
   "outputs": [
    {
     "name": "stdout",
     "output_type": "stream",
     "text": [
      "\n",
      "\u001b[32mStarting Redis Key Analysis: 2017-05-23 18:20:41\u001b[0m\n",
      "\n",
      "\u001b[33mRedis DB=0 keys=16856\u001b[0m\n",
      " - key=279 name: DS_01_day_XLF_STICKS\n",
      " - key=421 name: _STATS_DAILY_SUMMARY_XLF\n",
      " - key=949 name: _OPTS_XLF_2017-05-19\n",
      " - key=1159 name: _ALLBESTSSPREADS_XLU\n",
      " - key=1166 name: _ALLBESTSSPREADS_XLF\n",
      " - key=1167 name: _ALLBESTSSPREADS_XLE\n",
      " - key=1171 name: _ALLBESTSSPREADS_XLI\n",
      " - key=1368 name: _OPTS_XLU_2017-06-16\n",
      " - key=1758 name: _390_min_XLU\n",
      " - key=1843 name: _LST_SPY_PRICING\n",
      " - key=3408 name: _390_min_XLI\n",
      " - key=3768 name: _OPTS_XLI_LATEST\n",
      " - key=4979 name: _OPTS_SPY_2017-06-16\n",
      " - key=5013 name: _OPTS_XLF_2017-06-16\n",
      " - key=5595 name: _STATS_DAILY_SUMMARY_XLE\n",
      " - key=5599 name: _STATS_DAILY_SUMMARY_XLI\n",
      " - key=5601 name: _STATS_DAILY_SUMMARY_XLU\n",
      " - key=6129 name: _LAST_390_min_XLI\n",
      " - key=6131 name: _LAST_390_min_XLF\n",
      " - key=6132 name: _LAST_390_min_XLE\n",
      " - key=6138 name: _LAST_390_min_XLU\n",
      " - key=6589 name: _OPTS_XLE_2017-05-19\n",
      " - key=6654 name: _OPTS_XLU_LATEST\n",
      " - key=6713 name: _STATS_DAILY_SUMMARY_SPY\n",
      " - key=8038 name: _OPTS_XLF_LATEST\n",
      " - key=8536 name: ALL_EQUITIES_BY_TICKER\n",
      " - key=8539 name: _LST_XLI_PRICING\n",
      " - key=8860 name: EQ_DAILY_XLU\n",
      " - key=8864 name: EQ_DAILY_XLI\n",
      " - key=8874 name: EQ_DAILY_XLE\n",
      " - key=8877 name: EQ_DAILY_XLF\n",
      " - key=8967 name: DS_01_day_XLE_STICKS\n",
      " - key=9194 name: DS_01_day_XLI_STICKS\n",
      " - key=9510 name: _OPTS_XLI_2017-06-16\n",
      " - key=10467 name: _OPTS_XLI_2017-05-19\n",
      " - key=10921 name: _LST_XLE_PRICING\n",
      " - key=11725 name: EQ_DAILY_SPY\n",
      " - key=11951 name: _OPTS_XLE_2017-06-16\n",
      " - key=12526 name: _OPTS_SPY_2017-05-19\n",
      " - key=12592 name: _LST_XLU_PRICING\n",
      " - key=12829 name: _OPTS_XLU_2017-05-19\n",
      " - key=12916 name: ALL_EQUITIES_BY_ID\n",
      " - key=13100 name: DS_01_day_SPY_STICKS\n",
      " - key=13112 name: _ALLBESTSSPREADS_SPY\n",
      " - key=13131 name: DS_01_day_XLU_STICKS\n",
      " - key=13965 name: _OPTS_XLE_LATEST\n",
      " - key=14607 name: _390_min_XLE\n",
      " - key=14610 name: _390_min_XLF\n",
      " - key=14754 name: _390_min_SPY\n",
      " - key=15028 name: _LAST_390_min_SPY\n",
      " - key=15201 name: _LST_XLF_PRICING\n",
      " - key=16781 name: _OPTS_SPY_LATEST\n",
      "\n",
      "Daily Sticks for Ticker(SPY) StartDate(03-05-2009) Sticks(2052)\n",
      "\u001b[32mDate, High, Low, Open, Close, Volume\u001b[0m\n",
      "05-19-2017, 237.75, 235.43, 235.73, 235.82, 107120216\n",
      "05-18-2017, 237.75, 235.43, 235.73, 236.77, 106236399\n",
      "05-17-2017, 238.64, 235.75, 238.10, 235.82, 170138013\n",
      "05-16-2017, 240.67, 239.63, 240.64, 240.08, 51241791\n",
      "05-15-2017, 240.44, 239.45, 239.47, 240.30, 60025663\n",
      "05-12-2017, 239.43, 238.67, 239.09, 238.98, 51877428\n",
      "05-11-2017, 239.46, 238.13, 239.35, 239.87, 23215447\n",
      "05-10-2017, 240.19, 239.04, 239.96, 239.66, 51363200\n",
      "05-09-2017, 240.19, 239.04, 239.96, 239.44, 51363200\n",
      "05-08-2017, 239.92, 239.17, 239.75, 239.66, 48385730\n",
      "05-05-2017, 239.72, 238.68, 239.19, 239.70, 62001269\n",
      "05-04-2017, 238.92, 237.78, 238.83, 238.76, 61462732\n",
      "\n",
      "DB=0 detailed_keys=52 equities=16804\n",
      "---------------------------------------------\n",
      "\n",
      "\u001b[33mRedis DB=1 keys=1\u001b[0m\n",
      " - key: session:<redacted>\n",
      "---------------------------------------------\n",
      "\n",
      "\u001b[33mRedis DB=2 keys=0\u001b[0m\n",
      "---------------------------------------------\n",
      "\n",
      "\u001b[33mRedis DB=3 keys=10\u001b[0m\n",
      " - key: q:ccd68184a206285b77fab4da306ffbc5\n",
      " - key: conj:auth_user_user_permissions:user_id=80\n",
      " - key: schemes:auth_user_user_permissions\n",
      " - key: q:49c845196a7df1562b071f61363cf581\n",
      " - key: schemes:auth_user_groups\n",
      " - key: conj:auth_user:username=jay\n",
      " - key: schemes:auth_user\n",
      " - key: _USER_2\n",
      " - key: q:d8a63b9c4ef2116ec214e19be8c3826e\n",
      " - key: conj:auth_user_groups:user_id=80\n",
      "---------------------------------------------\n",
      "\n",
      "\u001b[33mRedis DB=4 keys=4\u001b[0m\n",
      " - key: _kombu.binding.reply.celery.pidbox\n",
      " - key: _kombu.binding.celery\n",
      " - key: _kombu.binding.celeryev\n",
      " - key: _kombu.binding.celery.pidbox\n",
      "---------------------------------------------\n",
      "\n",
      "\u001b[33mRedis DB=5 keys=0\u001b[0m\n",
      "---------------------------------------------\n",
      "\n",
      "\u001b[33mRedis DB=6 keys=0\u001b[0m\n",
      "---------------------------------------------\n",
      "\n",
      "\u001b[33mRedis DB=7 keys=0\u001b[0m\n",
      "---------------------------------------------\n",
      "\n",
      "\u001b[33mRedis DB=8 keys=0\u001b[0m\n",
      "---------------------------------------------\n",
      "\n",
      "\u001b[33mRedis DB=9 keys=0\u001b[0m\n",
      "---------------------------------------------\n",
      "\n",
      "\u001b[33mRedis DB=10 keys=0\u001b[0m\n",
      "---------------------------------------------\n",
      "\n",
      "\u001b[33mRedis DB=11 keys=0\u001b[0m\n",
      "---------------------------------------------\n",
      "\n",
      "\u001b[33mRedis DB=12 keys=0\u001b[0m\n",
      "---------------------------------------------\n",
      "\n",
      "\u001b[33mRedis DB=13 keys=0\u001b[0m\n",
      "---------------------------------------------\n",
      "\n",
      "\u001b[33mRedis DB=14 keys=0\u001b[0m\n",
      "---------------------------------------------\n",
      "\n",
      "\u001b[33mRedis DB=15 keys=0\u001b[0m\n",
      "---------------------------------------------\n",
      "\n"
     ]
    }
   ],
   "source": [
    "from __future__ import print_function\n",
    "import sys, os, requests, json, datetime\n",
    "\n",
    "# Load the environment and login the user\n",
    "from src.common.load_redten_ipython_env import user_token, user_login, csv_file, run_job, core, api_urls, ppj, rt_url, rt_user, rt_pass, rt_email, lg, good, boom, anmt, mark, ppj, uni_key, rest_login_as_user, rest_full_login, wait_for_job_to_finish, wait_on_job, get_job_analysis, get_job_results, get_analysis_manifest, get_job_cache_manifest, build_prediction_results, build_forecast_results, get_job_cache_manifest, search_ml_jobs, show_logs, show_errors, ipyImage, ipyHTML, ipyDisplay, pd, np\n",
    "\n",
    "# header\n",
    "lg(\"\")\n",
    "good(\"Starting Redis Key Analysis: \" + str(datetime.datetime.now().strftime(\"%Y-%m-%d %H:%M:%S\")))\n",
    "lg(\"\")\n",
    "\n",
    "# walk the redis dbs\n",
    "for db_idx in range(0, 16):\n",
    "    db_file = \"/tmp/db-\" + str(db_idx) + \"-keys\"\n",
    "    os.system(\"echo \\\"select \" + str(db_idx) + \" \\n keys *\\\" | redis-cli > \" + str(db_file))\n",
    "    database_keys = {}\n",
    "    if os.path.exists(db_file): # if the file exists\n",
    "        with open(db_file) as f: # open it\n",
    "            lines_to_parse = f.readlines() # read all the lines\n",
    "            for org_line in lines_to_parse:\n",
    "                cur_line = org_line.rstrip(\"\\n\").strip().lstrip() # remove the newline and any other whitespace\n",
    "                if str(cur_line) != \"OK\" and str(cur_line) != \"\":\n",
    "                    database_keys[cur_line] = True\n",
    "                # if it's not the redis OK response\n",
    "            # for all lines\n",
    "        # with the db file open\n",
    "    else:\n",
    "        boom(\"Failed parsing Redis db_file=\" + str(db_file))\n",
    "    # end of parsing db_file\n",
    "    \n",
    "    anmt(\"Redis DB=\" + str(db_idx) + \" keys=\" + str(len(database_keys)))\n",
    "\n",
    "    # used for manual inspection\n",
    "    sample_cache_record = {}\n",
    "    \n",
    "    if db_idx == 0:\n",
    "        equity_ticker = \"SPY\"\n",
    "        num_equities = 0\n",
    "        detailed_keys = []\n",
    "        for idx,k in enumerate(database_keys):\n",
    "            if \"EQTY_\" in str(k) or \"EQID_\" in str(k):\n",
    "                num_equities += 1\n",
    "            else:\n",
    "                lg(\" - key=\" + str(idx) + \" name: \" + str(k))\n",
    "                detailed_keys.append(k)\n",
    "                \n",
    "                # Pull this record from the \"STOCKS:EQ_DAILY_SPY\" \n",
    "                # redis location => <cache app name:redis key> \n",
    "                if \"EQ_DAILY_SPY\" == k:\n",
    "                    sample_cache_record = core.get_cache_from_redis(core.m_rds[\"STOCKS\"], k, False, False)\n",
    "                # end of pulling a sample\n",
    "                \n",
    "        # for the large db keyset\n",
    "        \n",
    "        if len(sample_cache_record) > 0:\n",
    "            lg(\"\")\n",
    "            lg(\"Daily Sticks for Ticker(\" + str(equity_ticker) + \") StartDate(\" + str(sample_cache_record[\"Record\"][\"StartDate\"]) + \") Sticks(\" + str(len(sample_cache_record[\"Record\"][\"Sticks\"])) + \")\", 6)\n",
    "            lg(\"Date, High, Low, Open, Close, Volume\", 5)\n",
    "            for idx,record in enumerate(reversed(sample_cache_record[\"Record\"][\"Sticks\"])):\n",
    "                lg(record[\"Date\"] + \", \" + record[\"High\"] + \", \" + record[\"Low\"] + \", \" + record[\"Open\"] + \", \" + record[\"Close\"] + \", \" + record[\"Volume\"])\n",
    "                # stop after a few\n",
    "                if idx > 10:\n",
    "                    break\n",
    "            # end for all sticks in the cache\n",
    "            \n",
    "            lg(\"\")\n",
    "        # end of inspecting the sample record\n",
    "        \n",
    "        lg(\"DB=\" + str(db_idx) + \" detailed_keys=\" + str(len(detailed_keys)) + \" equities=\" + str(num_equities))\n",
    "    else:\n",
    "        for k in database_keys:\n",
    "            if \"session:\" in k:\n",
    "                lg(\" - key: session:<redacted>\")\n",
    "            else:\n",
    "                lg(\" - key: \" + str(k))\n",
    "        # end of for all keys\n",
    "    # end of for the post processing keyset in this redis db\n",
    "    \n",
    "    lg(\"---------------------------------------------\")\n",
    "    lg(\"\")\n",
    "    \n",
    "# end for all db files"
   ]
  },
  {
   "cell_type": "markdown",
   "metadata": {
    "slideshow": {
     "slide_type": "slide"
    }
   },
   "source": [
    "### Appendix F - Debugging Tools"
   ]
  },
  {
   "cell_type": "markdown",
   "metadata": {},
   "source": [
    "### Develop with Swagger\n",
    "\n",
    "![Red10 Swagger](http://i.imgur.com/fYvg1mh.gif)"
   ]
  },
  {
   "cell_type": "markdown",
   "metadata": {
    "slideshow": {
     "slide_type": "slide"
    }
   },
   "source": [
    "## Search Jobs in Elasticsearch\n",
    "\n",
    "Red10 is running an ELK stack for searching by user, dataset identifiers, and jobs.\n",
    "\n",
    "![ELK](http://i.imgur.com/cUCebca.png)\n",
    "\n",
    "Once a job completes it is automatically published to Elasticsearch"
   ]
  },
  {
   "cell_type": "code",
   "execution_count": 3,
   "metadata": {
    "slideshow": {
     "slide_type": "slide"
    }
   },
   "outputs": [
    {
     "name": "stdout",
     "output_type": "stream",
     "text": [
      "Searching ML Jobs url=https://redten.io/ml/search/\n",
      "\u001b[32mSUCCESS - Job Search Response Status=200 Reason=OK\u001b[0m\n",
      "\u001b[32mFound Job={'target_column': '', 'desc': '', 'dsname': 'SPY', 'features': '', 'title': ''} results\u001b[0m\n",
      "\u001b[33mJob Matches=1\u001b[0m\n",
      "\u001b[32m{\n",
      "    \"jobs\": [\n",
      "        {\n",
      "            \"algo_name\": \"xgb-regressor\",\n",
      "            \"desc\": \"Forecast simulation - 2017-05-23 22:00:09\",\n",
      "            \"ds_name\": \"SPY\",\n",
      "            \"feature_column_names\": [\n",
      "                \"FHigh\",\n",
      "                \"FLow\",\n",
      "                \"FOpen\",\n",
      "                \"FClose\",\n",
      "                \"FVolume\"\n",
      "            ],\n",
      "            \"ignore_features\": [\n",
      "                \"Ticker\",\n",
      "                \"Date\",\n",
      "                \"FDate\",\n",
      "                \"FPrice\",\n",
      "                \"DcsnDate\",\n",
      "                \"Decision\"\n",
      "            ],\n",
      "            \"images\": [\n",
      "                {\n",
      "                    \"id\": 12006,\n",
      "                    \"image\": \"https://rt-media.s3.amazonaws.com/media/imagesml/20170523/2_555_12006_75950bb597ae44cf.png\",\n",
      "                    \"title\": \"SPY Close forecast overlay between 2017-02-23 00:00:00 - 2017-05-12 00:00:00\"\n",
      "                },\n",
      "                {\n",
      "                    \"id\": 12007,\n",
      "                    \"image\": \"https://rt-media.s3.amazonaws.com/media/imagesml/20170523/2_555_12007_981709fca5e94062.png\",\n",
      "                    \"title\": \"SPY-2-555 10-Days - Predictive Accuracy\\nPredicted Open 10 Days vs Actual Open 10 Days\"\n",
      "                },\n",
      "                {\n",
      "                    \"id\": 12008,\n",
      "                    \"image\": \"https://rt-media.s3.amazonaws.com/media/imagesml/20170523/2_555_12008_6e0222bdc5ab4adf.png\",\n",
      "                    \"title\": \"SPY-2-555 5-Days - Predictive Accuracy\\nPredicted Low 5 Days vs Actual Low 5 Days\"\n",
      "                },\n",
      "                {\n",
      "                    \"id\": 12009,\n",
      "                    \"image\": \"https://rt-media.s3.amazonaws.com/media/imagesml/20170523/2_555_12009_c70ec6e3690e466c.png\",\n",
      "                    \"title\": \"SPY-2-555 15-Days - Predictive Accuracy\\nPredicted Open 15 Days vs Actual Open 15 Days\"\n",
      "                },\n",
      "                {\n",
      "                    \"id\": 12010,\n",
      "                    \"image\": \"https://rt-media.s3.amazonaws.com/media/imagesml/20170523/2_555_12010_17b819f13e914bfa.png\",\n",
      "                    \"title\": \"SPY-2-555 25-Days - Predictive Accuracy\\nPredicted High 25 Days vs Actual High 25 Days\"\n",
      "                },\n",
      "                {\n",
      "                    \"id\": 12011,\n",
      "                    \"image\": \"https://rt-media.s3.amazonaws.com/media/imagesml/20170523/2_555_12011_f65ee56325394208.png\",\n",
      "                    \"title\": \"SPY-2-555 30-Days - Predictive Accuracy\\nPredicted Open 30 Days vs Actual Open 30 Days\"\n",
      "                },\n",
      "                {\n",
      "                    \"id\": 12012,\n",
      "                    \"image\": \"https://rt-media.s3.amazonaws.com/media/imagesml/20170523/2_555_12012_1a9331b9b8e24145.png\",\n",
      "                    \"title\": \"SPY-2-555 20-Days - Predictive Accuracy\\nPredicted High 20 Days vs Actual High 20 Days\"\n",
      "                },\n",
      "                {\n",
      "                    \"id\": 12013,\n",
      "                    \"image\": \"https://rt-media.s3.amazonaws.com/media/imagesml/20170523/2_555_12013_3b28fd99ff354edb.png\",\n",
      "                    \"title\": \"SPY-2-555 20-Days - Predictive Accuracy\\nPredicted Volume 20 Days vs Actual Volume 20 Days\"\n",
      "                },\n",
      "                {\n",
      "                    \"id\": 12014,\n",
      "                    \"image\": \"https://rt-media.s3.amazonaws.com/media/imagesml/20170523/2_555_12014_5d8cfd12bc7f49bf.png\",\n",
      "                    \"title\": \"SPY-2-555 25-Days - Predictive Accuracy\\nPredicted Volume 25 Days vs Actual Volume 25 Days\"\n",
      "                },\n",
      "                {\n",
      "                    \"id\": 12015,\n",
      "                    \"image\": \"https://rt-media.s3.amazonaws.com/media/imagesml/20170523/2_555_12015_5ee300ed25504c2b.png\",\n",
      "                    \"title\": \"SPY-2-555 30-Days - Predictive Accuracy\\nPredicted Low 30 Days vs Actual Low 30 Days\"\n",
      "                },\n",
      "                {\n",
      "                    \"id\": 12016,\n",
      "                    \"image\": \"https://rt-media.s3.amazonaws.com/media/imagesml/20170523/2_555_12016_029cb3266c46413d.png\",\n",
      "                    \"title\": \"SPY-2-555 20-Days - Predictive Accuracy\\nPredicted Close 20 Days vs Actual Close 20 Days\"\n",
      "                },\n",
      "                {\n",
      "                    \"id\": 12017,\n",
      "                    \"image\": \"https://rt-media.s3.amazonaws.com/media/imagesml/20170523/2_555_12017_3089d07bad8c4b85.png\",\n",
      "                    \"title\": \"SPY-2-555 5-Days - Predictive Accuracy\\nPredicted Volume 5 Days vs Actual Volume 5 Days\"\n",
      "                },\n",
      "                {\n",
      "                    \"id\": 12018,\n",
      "                    \"image\": \"https://rt-media.s3.amazonaws.com/media/imagesml/20170523/2_555_12018_dd20dc4f941946e4.png\",\n",
      "                    \"title\": \"SPY-2-555 25-Days - Predictive Accuracy\\nPredicted Close 25 Days vs Actual Close 25 Days\"\n",
      "                },\n",
      "                {\n",
      "                    \"id\": 12019,\n",
      "                    \"image\": \"https://rt-media.s3.amazonaws.com/media/imagesml/20170523/2_555_12019_813dbe0a739d4aa4.png\",\n",
      "                    \"title\": \"SPY-2-555 10-Days - Predictive Accuracy\\nPredicted Low 10 Days vs Actual Low 10 Days\"\n",
      "                },\n",
      "                {\n",
      "                    \"id\": 12020,\n",
      "                    \"image\": \"https://rt-media.s3.amazonaws.com/media/imagesml/20170523/2_555_12020_5b859fd5b3ca417e.png\",\n",
      "                    \"title\": \"SPY-2-555 5-Days - Predictive Accuracy\\nPredicted Open 5 Days vs Actual Open 5 Days\"\n",
      "                },\n",
      "                {\n",
      "                    \"id\": 12021,\n",
      "                    \"image\": \"https://rt-media.s3.amazonaws.com/media/imagesml/20170523/2_555_12021_3e6c529854ec47dd.png\",\n",
      "                    \"title\": \"SPY-2-555 15-Days - Predictive Accuracy\\nPredicted Low 15 Days vs Actual Low 15 Days\"\n",
      "                },\n",
      "                {\n",
      "                    \"id\": 12022,\n",
      "                    \"image\": \"https://rt-media.s3.amazonaws.com/media/imagesml/20170523/2_555_12022_f335bee9141a4d39.png\",\n",
      "                    \"title\": \"SPY-2-555 10-Days - Predictive Accuracy\\nPredicted High 10 Days vs Actual High 10 Days\"\n",
      "                },\n",
      "                {\n",
      "                    \"id\": 12023,\n",
      "                    \"image\": \"https://rt-media.s3.amazonaws.com/media/imagesml/20170523/2_555_12023_916304a8e7184119.png\",\n",
      "                    \"title\": \"SPY-2-555 15-Days - Predictive Accuracy\\nPredicted High 15 Days vs Actual High 15 Days\"\n",
      "                },\n",
      "                {\n",
      "                    \"id\": 12024,\n",
      "                    \"image\": \"https://rt-media.s3.amazonaws.com/media/imagesml/20170523/2_555_12024_3a4a00f45ddb4472.png\",\n",
      "                    \"title\": \"SPY-2-555 25-Days - Predictive Accuracy\\nPredicted Open 25 Days vs Actual Open 25 Days\"\n",
      "                },\n",
      "                {\n",
      "                    \"id\": 12025,\n",
      "                    \"image\": \"https://rt-media.s3.amazonaws.com/media/imagesml/20170523/2_555_12025_beec39f18bb84469.png\",\n",
      "                    \"title\": \"SPY-2-555 30-Days - Predictive Accuracy\\nPredicted High 30 Days vs Actual High 30 Days\"\n",
      "                },\n",
      "                {\n",
      "                    \"id\": 12026,\n",
      "                    \"image\": \"https://rt-media.s3.amazonaws.com/media/imagesml/20170523/2_555_12026_bf5288b75d994cde.png\",\n",
      "                    \"title\": \"SPY-2-555 20-Days - Predictive Accuracy\\nPredicted Open 20 Days vs Actual Open 20 Days\"\n",
      "                },\n",
      "                {\n",
      "                    \"id\": 12027,\n",
      "                    \"image\": \"https://rt-media.s3.amazonaws.com/media/imagesml/20170523/2_555_12027_2620b246cfd54a68.png\",\n",
      "                    \"title\": \"SPY-2-555 10-Days - Predictive Accuracy\\nPredicted Volume 10 Days vs Actual Volume 10 Days\"\n",
      "                },\n",
      "                {\n",
      "                    \"id\": 12028,\n",
      "                    \"image\": \"https://rt-media.s3.amazonaws.com/media/imagesml/20170523/2_555_12028_f5d022f810ba4283.png\",\n",
      "                    \"title\": \"SPY-2-555 30-Days - Predictive Accuracy\\nPredicted Volume 30 Days vs Actual Volume 30 Days\"\n",
      "                },\n",
      "                {\n",
      "                    \"id\": 12029,\n",
      "                    \"image\": \"https://rt-media.s3.amazonaws.com/media/imagesml/20170523/2_555_12029_c7e56bc6a77748d6.png\",\n",
      "                    \"title\": \"SPY-2-555 15-Days - Predictive Accuracy\\nPredicted Volume 15 Days vs Actual Volume 15 Days\"\n",
      "                },\n",
      "                {\n",
      "                    \"id\": 12030,\n",
      "                    \"image\": \"https://rt-media.s3.amazonaws.com/media/imagesml/20170523/2_555_12030_bdcb901323804a6b.png\",\n",
      "                    \"title\": \"SPY-2-555 20-Days - Predictive Accuracy\\nPredicted Low 20 Days vs Actual Low 20 Days\"\n",
      "                },\n",
      "                {\n",
      "                    \"id\": 12031,\n",
      "                    \"image\": \"https://rt-media.s3.amazonaws.com/media/imagesml/20170523/2_555_12031_19276b3843ea467e.png\",\n",
      "                    \"title\": \"SPY-2-555 25-Days - Predictive Accuracy\\nPredicted Low 25 Days vs Actual Low 25 Days\"\n",
      "                },\n",
      "                {\n",
      "                    \"id\": 12032,\n",
      "                    \"image\": \"https://rt-media.s3.amazonaws.com/media/imagesml/20170523/2_555_12032_bf48ad03bdf7426e.png\",\n",
      "                    \"title\": \"SPY-2-555 30-Days - Predictive Accuracy\\nPredicted Close 30 Days vs Actual Close 30 Days\"\n",
      "                },\n",
      "                {\n",
      "                    \"id\": 12033,\n",
      "                    \"image\": \"https://rt-media.s3.amazonaws.com/media/imagesml/20170523/2_555_12033_42cb601864994eb2.png\",\n",
      "                    \"title\": \"SPY-2-555 15-Days - Predictive Accuracy\\nPredicted Close 15 Days vs Actual Close 15 Days\"\n",
      "                },\n",
      "                {\n",
      "                    \"id\": 12034,\n",
      "                    \"image\": \"https://rt-media.s3.amazonaws.com/media/imagesml/20170523/2_555_12034_b74469132a794f8e.png\",\n",
      "                    \"title\": \"SPY-2-555 10-Days - Predictive Accuracy\\nPredicted Close 10 Days vs Actual Close 10 Days\"\n",
      "                },\n",
      "                {\n",
      "                    \"id\": 12035,\n",
      "                    \"image\": \"https://rt-media.s3.amazonaws.com/media/imagesml/20170523/2_555_12035_1cb38442136f4719.png\",\n",
      "                    \"title\": \"SPY-2-555 5-Days - Predictive Accuracy\\nPredicted High 5 Days vs Actual High 5 Days\"\n",
      "                },\n",
      "                {\n",
      "                    \"id\": 12036,\n",
      "                    \"image\": \"https://rt-media.s3.amazonaws.com/media/imagesml/20170523/2_555_12036_b5cb1f3c8a554dd2.png\",\n",
      "                    \"title\": \"SPY-2-555 5-Days - Predictive Accuracy\\nPredicted Close 5 Days vs Actual Close 5 Days\"\n",
      "                }\n",
      "            ],\n",
      "            \"job_id\": 555,\n",
      "            \"ml_type\": \"Playbook-UnitsAhead\",\n",
      "            \"prediction_type\": \"forecast\",\n",
      "            \"result_id\": \"\",\n",
      "            \"target_column_name\": \"FClose\",\n",
      "            \"target_column_values\": [\n",
      "                \"GoodBuys\",\n",
      "                \"BadBuys\",\n",
      "                \"Not Finished\"\n",
      "            ],\n",
      "            \"title\": \"SPY Forecast v5 - 6b8e2873aaa84e3a8eadf5f260151c7\",\n",
      "            \"train_id\": 446,\n",
      "            \"user_id\": 2,\n",
      "            \"username\": \"jay\"\n",
      "        },\n",
      "        {\n",
      "            \"algo_name\": \"xgb-regressor\",\n",
      "            \"desc\": \"Forecast simulation - 2017-05-23 22:24:08\",\n",
      "            \"ds_name\": \"SPY\",\n",
      "            \"feature_column_names\": [\n",
      "                \"FHigh\",\n",
      "                \"FLow\",\n",
      "                \"FOpen\",\n",
      "                \"FClose\",\n",
      "                \"FVolume\"\n",
      "            ],\n",
      "            \"ignore_features\": [\n",
      "                \"Ticker\",\n",
      "                \"Date\",\n",
      "                \"FDate\",\n",
      "                \"FPrice\",\n",
      "                \"DcsnDate\",\n",
      "                \"Decision\"\n",
      "            ],\n",
      "            \"images\": [\n",
      "                {\n",
      "                    \"id\": 12037,\n",
      "                    \"image\": \"https://rt-media.s3.amazonaws.com/media/imagesml/20170523/2_556_12037_0523b881d6a64baa.png\",\n",
      "                    \"title\": \"SPY Close forecast overlay between 2017-02-23 00:00:00 - 2017-05-12 00:00:00\"\n",
      "                },\n",
      "                {\n",
      "                    \"id\": 12038,\n",
      "                    \"image\": \"https://rt-media.s3.amazonaws.com/media/imagesml/20170523/2_556_12038_c8fc6f8d4e294881.png\",\n",
      "                    \"title\": \"SPY-2-556 10-Days - Predictive Accuracy\\nPredicted Open 10 Days vs Actual Open 10 Days\"\n",
      "                },\n",
      "                {\n",
      "                    \"id\": 12039,\n",
      "                    \"image\": \"https://rt-media.s3.amazonaws.com/media/imagesml/20170523/2_556_12039_dba3efb9b56c4bb5.png\",\n",
      "                    \"title\": \"SPY-2-556 5-Days - Predictive Accuracy\\nPredicted Low 5 Days vs Actual Low 5 Days\"\n",
      "                },\n",
      "                {\n",
      "                    \"id\": 12040,\n",
      "                    \"image\": \"https://rt-media.s3.amazonaws.com/media/imagesml/20170523/2_556_12040_a3e6aafa5e6241c4.png\",\n",
      "                    \"title\": \"SPY-2-556 15-Days - Predictive Accuracy\\nPredicted Open 15 Days vs Actual Open 15 Days\"\n",
      "                },\n",
      "                {\n",
      "                    \"id\": 12041,\n",
      "                    \"image\": \"https://rt-media.s3.amazonaws.com/media/imagesml/20170523/2_556_12041_cf802c6530714ae7.png\",\n",
      "                    \"title\": \"SPY-2-556 25-Days - Predictive Accuracy\\nPredicted High 25 Days vs Actual High 25 Days\"\n",
      "                },\n",
      "                {\n",
      "                    \"id\": 12042,\n",
      "                    \"image\": \"https://rt-media.s3.amazonaws.com/media/imagesml/20170523/2_556_12042_152cb94cf47f4557.png\",\n",
      "                    \"title\": \"SPY-2-556 30-Days - Predictive Accuracy\\nPredicted Open 30 Days vs Actual Open 30 Days\"\n",
      "                },\n",
      "                {\n",
      "                    \"id\": 12043,\n",
      "                    \"image\": \"https://rt-media.s3.amazonaws.com/media/imagesml/20170523/2_556_12043_ddeb69b9254b4595.png\",\n",
      "                    \"title\": \"SPY-2-556 20-Days - Predictive Accuracy\\nPredicted High 20 Days vs Actual High 20 Days\"\n",
      "                },\n",
      "                {\n",
      "                    \"id\": 12044,\n",
      "                    \"image\": \"https://rt-media.s3.amazonaws.com/media/imagesml/20170523/2_556_12044_f64ef76a00cb4bb9.png\",\n",
      "                    \"title\": \"SPY-2-556 20-Days - Predictive Accuracy\\nPredicted Volume 20 Days vs Actual Volume 20 Days\"\n",
      "                },\n",
      "                {\n",
      "                    \"id\": 12045,\n",
      "                    \"image\": \"https://rt-media.s3.amazonaws.com/media/imagesml/20170523/2_556_12045_db89689ffd49445c.png\",\n",
      "                    \"title\": \"SPY-2-556 25-Days - Predictive Accuracy\\nPredicted Volume 25 Days vs Actual Volume 25 Days\"\n",
      "                },\n",
      "                {\n",
      "                    \"id\": 12046,\n",
      "                    \"image\": \"https://rt-media.s3.amazonaws.com/media/imagesml/20170523/2_556_12046_8c585f82cd0948c5.png\",\n",
      "                    \"title\": \"SPY-2-556 30-Days - Predictive Accuracy\\nPredicted Low 30 Days vs Actual Low 30 Days\"\n",
      "                },\n",
      "                {\n",
      "                    \"id\": 12047,\n",
      "                    \"image\": \"https://rt-media.s3.amazonaws.com/media/imagesml/20170523/2_556_12047_eba8de31f57e466a.png\",\n",
      "                    \"title\": \"SPY-2-556 20-Days - Predictive Accuracy\\nPredicted Close 20 Days vs Actual Close 20 Days\"\n",
      "                },\n",
      "                {\n",
      "                    \"id\": 12048,\n",
      "                    \"image\": \"https://rt-media.s3.amazonaws.com/media/imagesml/20170523/2_556_12048_7f90d455f7df4e2f.png\",\n",
      "                    \"title\": \"SPY-2-556 5-Days - Predictive Accuracy\\nPredicted Volume 5 Days vs Actual Volume 5 Days\"\n",
      "                },\n",
      "                {\n",
      "                    \"id\": 12049,\n",
      "                    \"image\": \"https://rt-media.s3.amazonaws.com/media/imagesml/20170523/2_556_12049_49d5e69d8c104eb2.png\",\n",
      "                    \"title\": \"SPY-2-556 25-Days - Predictive Accuracy\\nPredicted Close 25 Days vs Actual Close 25 Days\"\n",
      "                },\n",
      "                {\n",
      "                    \"id\": 12050,\n",
      "                    \"image\": \"https://rt-media.s3.amazonaws.com/media/imagesml/20170523/2_556_12050_430a5186b3d945e4.png\",\n",
      "                    \"title\": \"SPY-2-556 10-Days - Predictive Accuracy\\nPredicted Low 10 Days vs Actual Low 10 Days\"\n",
      "                },\n",
      "                {\n",
      "                    \"id\": 12051,\n",
      "                    \"image\": \"https://rt-media.s3.amazonaws.com/media/imagesml/20170523/2_556_12051_184561aa8af3489a.png\",\n",
      "                    \"title\": \"SPY-2-556 5-Days - Predictive Accuracy\\nPredicted Open 5 Days vs Actual Open 5 Days\"\n",
      "                },\n",
      "                {\n",
      "                    \"id\": 12052,\n",
      "                    \"image\": \"https://rt-media.s3.amazonaws.com/media/imagesml/20170523/2_556_12052_26fbe6058c114619.png\",\n",
      "                    \"title\": \"SPY-2-556 15-Days - Predictive Accuracy\\nPredicted Low 15 Days vs Actual Low 15 Days\"\n",
      "                },\n",
      "                {\n",
      "                    \"id\": 12053,\n",
      "                    \"image\": \"https://rt-media.s3.amazonaws.com/media/imagesml/20170523/2_556_12053_de8af6d2ab474eb4.png\",\n",
      "                    \"title\": \"SPY-2-556 10-Days - Predictive Accuracy\\nPredicted High 10 Days vs Actual High 10 Days\"\n",
      "                },\n",
      "                {\n",
      "                    \"id\": 12054,\n",
      "                    \"image\": \"https://rt-media.s3.amazonaws.com/media/imagesml/20170523/2_556_12054_72baf6fe1cff49dd.png\",\n",
      "                    \"title\": \"SPY-2-556 15-Days - Predictive Accuracy\\nPredicted High 15 Days vs Actual High 15 Days\"\n",
      "                },\n",
      "                {\n",
      "                    \"id\": 12055,\n",
      "                    \"image\": \"https://rt-media.s3.amazonaws.com/media/imagesml/20170523/2_556_12055_76b743196398499f.png\",\n",
      "                    \"title\": \"SPY-2-556 25-Days - Predictive Accuracy\\nPredicted Open 25 Days vs Actual Open 25 Days\"\n",
      "                },\n",
      "                {\n",
      "                    \"id\": 12056,\n",
      "                    \"image\": \"https://rt-media.s3.amazonaws.com/media/imagesml/20170523/2_556_12056_53ca82cd037c4ebb.png\",\n",
      "                    \"title\": \"SPY-2-556 30-Days - Predictive Accuracy\\nPredicted High 30 Days vs Actual High 30 Days\"\n",
      "                },\n",
      "                {\n",
      "                    \"id\": 12057,\n",
      "                    \"image\": \"https://rt-media.s3.amazonaws.com/media/imagesml/20170523/2_556_12057_ceced8e2215749e5.png\",\n",
      "                    \"title\": \"SPY-2-556 20-Days - Predictive Accuracy\\nPredicted Open 20 Days vs Actual Open 20 Days\"\n",
      "                },\n",
      "                {\n",
      "                    \"id\": 12058,\n",
      "                    \"image\": \"https://rt-media.s3.amazonaws.com/media/imagesml/20170523/2_556_12058_660025f112e04a51.png\",\n",
      "                    \"title\": \"SPY-2-556 10-Days - Predictive Accuracy\\nPredicted Volume 10 Days vs Actual Volume 10 Days\"\n",
      "                },\n",
      "                {\n",
      "                    \"id\": 12059,\n",
      "                    \"image\": \"https://rt-media.s3.amazonaws.com/media/imagesml/20170523/2_556_12059_974874fc3c0c4c4b.png\",\n",
      "                    \"title\": \"SPY-2-556 30-Days - Predictive Accuracy\\nPredicted Volume 30 Days vs Actual Volume 30 Days\"\n",
      "                },\n",
      "                {\n",
      "                    \"id\": 12060,\n",
      "                    \"image\": \"https://rt-media.s3.amazonaws.com/media/imagesml/20170523/2_556_12060_c3c6ab2f04ae4669.png\",\n",
      "                    \"title\": \"SPY-2-556 15-Days - Predictive Accuracy\\nPredicted Volume 15 Days vs Actual Volume 15 Days\"\n",
      "                },\n",
      "                {\n",
      "                    \"id\": 12061,\n",
      "                    \"image\": \"https://rt-media.s3.amazonaws.com/media/imagesml/20170523/2_556_12061_087ef25764154835.png\",\n",
      "                    \"title\": \"SPY-2-556 20-Days - Predictive Accuracy\\nPredicted Low 20 Days vs Actual Low 20 Days\"\n",
      "                },\n",
      "                {\n",
      "                    \"id\": 12062,\n",
      "                    \"image\": \"https://rt-media.s3.amazonaws.com/media/imagesml/20170523/2_556_12062_50476dc42b95485a.png\",\n",
      "                    \"title\": \"SPY-2-556 25-Days - Predictive Accuracy\\nPredicted Low 25 Days vs Actual Low 25 Days\"\n",
      "                },\n",
      "                {\n",
      "                    \"id\": 12063,\n",
      "                    \"image\": \"https://rt-media.s3.amazonaws.com/media/imagesml/20170523/2_556_12063_3f0f9b7a91e6477d.png\",\n",
      "                    \"title\": \"SPY-2-556 30-Days - Predictive Accuracy\\nPredicted Close 30 Days vs Actual Close 30 Days\"\n",
      "                },\n",
      "                {\n",
      "                    \"id\": 12064,\n",
      "                    \"image\": \"https://rt-media.s3.amazonaws.com/media/imagesml/20170523/2_556_12064_4929471da7b848dc.png\",\n",
      "                    \"title\": \"SPY-2-556 15-Days - Predictive Accuracy\\nPredicted Close 15 Days vs Actual Close 15 Days\"\n",
      "                },\n",
      "                {\n",
      "                    \"id\": 12065,\n",
      "                    \"image\": \"https://rt-media.s3.amazonaws.com/media/imagesml/20170523/2_556_12065_c42e1ef3ecda4a50.png\",\n",
      "                    \"title\": \"SPY-2-556 10-Days - Predictive Accuracy\\nPredicted Close 10 Days vs Actual Close 10 Days\"\n",
      "                },\n",
      "                {\n",
      "                    \"id\": 12066,\n",
      "                    \"image\": \"https://rt-media.s3.amazonaws.com/media/imagesml/20170523/2_556_12066_bd242932692b48f1.png\",\n",
      "                    \"title\": \"SPY-2-556 5-Days - Predictive Accuracy\\nPredicted High 5 Days vs Actual High 5 Days\"\n",
      "                },\n",
      "                {\n",
      "                    \"id\": 12067,\n",
      "                    \"image\": \"https://rt-media.s3.amazonaws.com/media/imagesml/20170523/2_556_12067_a1d9483443844be5.png\",\n",
      "                    \"title\": \"SPY-2-556 5-Days - Predictive Accuracy\\nPredicted Close 5 Days vs Actual Close 5 Days\"\n",
      "                }\n",
      "            ],\n",
      "            \"job_id\": 556,\n",
      "            \"ml_type\": \"Playbook-UnitsAhead\",\n",
      "            \"prediction_type\": \"forecast\",\n",
      "            \"result_id\": \"\",\n",
      "            \"target_column_name\": \"FClose\",\n",
      "            \"target_column_values\": [\n",
      "                \"GoodBuys\",\n",
      "                \"BadBuys\",\n",
      "                \"Not Finished\"\n",
      "            ],\n",
      "            \"title\": \"SPY Forecast v5 - 1394ae9d74c24d5886f9608d3dd6328\",\n",
      "            \"train_id\": 447,\n",
      "            \"user_id\": 2,\n",
      "            \"username\": \"jay\"\n",
      "        }\n",
      "    ]\n",
      "}\u001b[0m\n"
     ]
    }
   ],
   "source": [
    "from __future__ import print_function\n",
    "import sys, os, requests, json, datetime\n",
    "\n",
    "# Load the environment and login the user\n",
    "from src.common.load_redten_ipython_env import user_token, user_login, csv_file, run_job, core, api_urls, ppj, rt_url, rt_user, rt_pass, rt_email, lg, good, boom, anmt, mark, ppj, uni_key, rest_login_as_user, rest_full_login, wait_for_job_to_finish, wait_on_job, get_job_analysis, get_job_results, get_analysis_manifest, get_job_cache_manifest, build_prediction_results, build_forecast_results, get_job_cache_manifest, search_ml_jobs, show_logs, show_errors, ipyImage, ipyHTML, ipyDisplay, pd, np\n",
    "\n",
    "search_req = {\n",
    "        \"title\" : \"\", # job title with completion\n",
    "        \"dsname\" : \"SPY\", # dataset name with completion\n",
    "        \"desc\" : \"\", # description with completion\n",
    "        \"features\" : \"\", # feature search\n",
    "        \"target_column\" : \"\" # name of target column for this analysis\n",
    "    }\n",
    "job_search = {}\n",
    "job_res = {}\n",
    "if len(search_req) == 0 :\n",
    "    boom(\"Please create a valid search request\")\n",
    "else:\n",
    "    job_res = search_ml_jobs(search_req)\n",
    "\n",
    "    if job_res[\"status\"] != \"SUCCESS\":\n",
    "        boom(\"Job=\" + str(job_id) + \" failed with status=\" + str(job_res[\"status\"]) + \" err=\" + str(job_res[\"error\"]))\n",
    "    else:\n",
    "        job_search = job_res[\"record\"]\n",
    "        anmt(\"Job Matches=\" + str(len(job_search)))\n",
    "        lg(ppj(job_search), 5)\n",
    "    # found jobs\n",
    "# end of searching for job"
   ]
  },
  {
   "cell_type": "markdown",
   "metadata": {
    "slideshow": {
     "slide_type": "slide"
    }
   },
   "source": [
    "### Pulling the Latest Error Logs from Elasticsearch"
   ]
  },
  {
   "cell_type": "code",
   "execution_count": 4,
   "metadata": {
    "slideshow": {
     "slide_type": "slide"
    }
   },
   "outputs": [
    {
     "name": "stdout",
     "output_type": "stream",
     "text": [
      "\u001b[31mFinding latest error logs:\u001b[0m\n",
      "2017-05-24 06:38:28 - ERROR - Demo error logs from celery workers - uuid=ec9440aa1c764cf4a33dcdfe6026f88\n",
      "2017-05-24 06:38:28 - ERROR - Demo error logs from celery workers - uuid=f650f23f0a664927a96a71875ca3068\n",
      "2017-05-24 06:38:28 - ERROR - Demo error logs from celery workers - uuid=08ceca09a27b4f78b930a005c274dc9\n",
      "2017-05-24 06:38:28 - ERROR - Demo error logs from celery workers - uuid=9ebef890badc4c1580465d8b91dd63d\n",
      "2017-05-24 06:38:28 - ERROR - Demo error logs from celery workers - uuid=f3f20e7324e44627b3f92a7799eaa3a\n",
      "2017-05-24 06:38:28 - ERROR - Demo error logs from celery workers - uuid=2a9c417e87f64166bd8c2a6a6599f84\n",
      "2017-05-24 06:38:28 - ERROR - Demo error logs from celery workers - uuid=68362d7935b04f8388923c4ed824818\n",
      "2017-05-24 06:38:28 - ERROR - Demo error logs from celery workers - uuid=68e882a944904f7bb6d936720b97721\n",
      "2017-05-24 06:38:28 - ERROR - Demo error logs from celery workers - uuid=b5746788a0044d00babb9f07214c8b2\n",
      "2017-05-24 06:38:28 - ERROR - Demo error logs from celery workers - uuid=21ab697410204f3fa09d834b196fbd8\n",
      "2017-05-24 06:38:28 - ERROR - Demo error logs from celery workers - uuid=3ae35c7e805c44838c8b3e2d2d2ce95\n",
      "2017-05-24 06:38:28 - ERROR - Demo error logs from celery workers - uuid=9b8e9a2dbea14c21aed734e139cd283\n",
      "2017-05-24 06:38:28 - ERROR - Demo error logs from celery workers - uuid=b0ef1d2dcb514c50a64f64be3437b5a\n",
      "2017-05-24 06:38:28 - ERROR - Demo error logs from celery workers - uuid=6705994cb85a45e0ba176d6c17d0d80\n",
      "2017-05-24 06:38:28 - ERROR - Demo error logs from celery workers - uuid=01faad42d3aa472fa72e66db8c1c330\n",
      "2017-05-24 06:38:28 - ERROR - Demo error logs from celery workers - uuid=c4d361075640431e85064ad8bef3876\n",
      "2017-05-24 06:38:28 - ERROR - Demo error logs from celery workers - uuid=0c5fc6baa3df481f9fdbd48a7da19ab\n",
      "2017-05-24 06:38:28 - ERROR - Demo error logs from celery workers - uuid=a63349d3704d40bb9099aaa1c59bcae\n",
      "2017-05-24 06:38:28 - ERROR - Demo error logs from celery workers - uuid=15a8bab5c07c4c2d84a7fe040e143e3\n",
      "2017-05-24 06:38:28 - ERROR - Demo error logs from celery workers - uuid=321ead788d814c698e99d9eeabc91e7\n",
      "2017-05-24 06:38:28 - ERROR - Demo error logs from celery workers - uuid=04b1492f378c49b2acf3676afb0b02c\n",
      "2017-05-24 06:38:28 - ERROR - Demo error logs from celery workers - uuid=1d128b7d59704452a7a9ed37a4e7063\n",
      "2017-05-24 06:38:28 - ERROR - Demo error logs from celery workers - uuid=856f6f937d804a54bb68784db8583b9\n",
      "2017-05-24 06:38:28 - ERROR - Demo error logs from celery workers - uuid=009cc460d514460db81e98b970ee1b1\n",
      "2017-05-24 06:38:28 - ERROR - Demo error logs from celery workers - uuid=a1bdaff8368e460f9a76d2dafcfb84b\n",
      "2017-05-24 06:38:28 - ERROR - Demo error logs from celery workers - uuid=a668ae7464184d15befb3e18879c55f\n",
      "2017-05-24 06:38:28 - ERROR - Demo error logs from celery workers - uuid=e2326e5dfde341d19d9544ad095eab4\n",
      "2017-05-24 06:38:28 - ERROR - Demo error logs from celery workers - uuid=5f447746158f447a802e68c9d5dc6ee\n",
      "2017-05-24 06:38:28 - ERROR - Demo error logs from celery workers - uuid=7a600f7bc45e40cfb3f369ff7fcf59f\n",
      "2017-05-24 06:38:28 - ERROR - Demo error logs from celery workers - uuid=f775d4103f384d62bc1c89c84b20b54\n",
      "2017-05-24 06:38:28 - ERROR - Demo error logs from celery workers - uuid=625b6a5dbb314d5ab640a41599dbac1\n",
      "2017-05-24 06:38:28 - ERROR - Demo error logs from celery workers - uuid=99b27252cf174cc1a7fc4291d554d36\n",
      "2017-05-24 06:38:28 - ERROR - Demo error logs from celery workers - uuid=30734ba6aa7e4ba4afd2452d8803d12\n",
      "2017-05-24 06:38:28 - ERROR - Demo error logs from celery workers - uuid=2e5cf52864914bcfab1ee59206dfcd6\n",
      "2017-05-24 06:38:28 - ERROR - Demo error logs from celery workers - uuid=37ca18e73883420b9ef6c7aeda4b8ca\n",
      "2017-05-24 06:38:28 - ERROR - Demo error logs from celery workers - uuid=43c78c5e10854315ab89ee646ceea12\n",
      "2017-05-24 06:38:28 - ERROR - Demo error logs from celery workers - uuid=e7d6c4494ae44d7c91e8481ff2577cc\n",
      "2017-05-24 06:38:28 - ERROR - Demo error logs from celery workers - uuid=d3a540fd215847c3a7eb3e8f9e27c78\n",
      "2017-05-24 06:38:28 - ERROR - Demo error logs from celery workers - uuid=f5daabc7d2174a3482a9e1233424514\n",
      "2017-05-24 06:38:28 - ERROR - Demo error logs from celery workers - uuid=4817db6ced5b4e9ead9a5ba8d685f54\n",
      "2017-05-24 06:38:28 - ERROR - Demo error logs from celery workers - uuid=59c5ac1d733849c4b18b095f297d2eb\n",
      "2017-05-24 06:38:28 - ERROR - Demo error logs from celery workers - uuid=c055451ab361489684cc1d62c8418aa\n",
      "2017-05-24 06:38:28 - ERROR - Demo error logs from celery workers - uuid=9de37c7a76fa461ba2f21e0c5e92b1b\n",
      "2017-05-24 06:38:28 - ERROR - Demo error logs from celery workers - uuid=dc4ac1e3783449ee99e684964d9628d\n",
      "2017-05-24 06:38:28 - ERROR - Demo error logs from celery workers - uuid=277d0ea8fe324c818bc175d3dcc4327\n",
      "2017-05-24 06:38:28 - ERROR - Demo error logs from celery workers - uuid=e8b4a17841b2499f9016159de9e93f5\n",
      "2017-05-24 06:38:28 - ERROR - Demo error logs from celery workers - uuid=fc0a3c976ae04f89b0782d5ae2f72b7\n",
      "2017-05-24 06:38:28 - ERROR - Demo error logs from celery workers - uuid=acba2d491992455d9d0008fce60bb61\n",
      "2017-05-24 06:38:28 - ERROR - Demo error logs from celery workers - uuid=8e7b2e356a6b48bda2dd73ea055e8dd\n",
      "2017-05-24 06:38:28 - ERROR - Demo error logs from celery workers - uuid=6bade4fdeb2b442d91001d4d992d88e\n"
     ]
    }
   ],
   "source": [
    "boom(\"Finding latest error logs:\")\n",
    "show_errors(limit=50)"
   ]
  },
  {
   "cell_type": "markdown",
   "metadata": {
    "slideshow": {
     "slide_type": "slide"
    }
   },
   "source": [
    "### Pulling the Latest Logs from Elasticsearch"
   ]
  },
  {
   "cell_type": "code",
   "execution_count": 5,
   "metadata": {
    "slideshow": {
     "slide_type": "slide"
    }
   },
   "outputs": [
    {
     "name": "stdout",
     "output_type": "stream",
     "text": [
      "\u001b[33mFinding latest logs:\u001b[0m\n",
      "2017-05-24 06:38:28 - INFO - Demo info logs from celery workers - uuid=75e406e1515d451c8af06136c52e478\n",
      "2017-05-24 06:38:28 - INFO - Demo info logs from celery workers - uuid=ffb1ac5fe34f4130a8eeea4fe188ef9\n",
      "2017-05-24 06:38:28 - INFO - Demo info logs from celery workers - uuid=1f6954c4cd5e46ed9b0b0584199d725\n",
      "2017-05-24 06:38:28 - INFO - Demo info logs from celery workers - uuid=c9a5a8f696a04c4bb7716a559718224\n",
      "2017-05-24 06:38:28 - INFO - Demo info logs from celery workers - uuid=2b3850f444cd4e0cad5f1f1ae72168c\n",
      "2017-05-24 06:38:28 - INFO - Demo info logs from celery workers - uuid=d056dc9c3c604d9a916a86127d7e31a\n",
      "2017-05-24 06:38:28 - INFO - Demo info logs from celery workers - uuid=8d111ebd1eee4c68ac031dcd1f4c530\n",
      "2017-05-24 06:38:28 - INFO - Demo info logs from celery workers - uuid=5aa041864fb24c34988b259330d1332\n",
      "2017-05-24 06:38:28 - INFO - Demo info logs from celery workers - uuid=fd2647c217304a9ab87d1f31adb6ea9\n",
      "2017-05-24 06:38:28 - INFO - Demo info logs from celery workers - uuid=c7b051014cb8461f856e336c4b684ec\n",
      "2017-05-24 06:38:28 - INFO - Demo info logs from celery workers - uuid=9451dd6b9bfe4748aef42f2a9ebb551\n",
      "2017-05-24 06:38:28 - INFO - Demo info logs from celery workers - uuid=db6ac99b562143e8acfda7206644b59\n",
      "2017-05-24 06:38:28 - INFO - Demo info logs from celery workers - uuid=a828e9a85a024c2d812b163c874a09f\n",
      "2017-05-24 06:38:28 - INFO - Demo info logs from celery workers - uuid=720b3ce6457140dc816ae094fc902fb\n",
      "2017-05-24 06:38:28 - INFO - Demo info logs from celery workers - uuid=79b83fd71b584590ac88498ebd99032\n",
      "2017-05-24 06:38:28 - INFO - Demo info logs from celery workers - uuid=51f781ab22634605af5618749e2113f\n",
      "2017-05-24 06:38:28 - INFO - Demo info logs from celery workers - uuid=7ba3ade713ee4c8faf98d2a63bdf79a\n",
      "2017-05-24 06:38:28 - INFO - Demo info logs from celery workers - uuid=18584ef9b0574ee2a5ff78a28333bd3\n",
      "2017-05-24 06:38:28 - INFO - Demo info logs from celery workers - uuid=a51fd7d46b7f42bb8b8c80699e8dad9\n",
      "2017-05-24 06:38:28 - INFO - Demo info logs from celery workers - uuid=6c3d5d2c36ed41818dc1cec48178ee5\n",
      "2017-05-24 06:38:28 - INFO - Demo info logs from celery workers - uuid=a477245220a546a1b697862505ea53b\n",
      "2017-05-24 06:38:28 - INFO - Demo info logs from celery workers - uuid=a7653b5c882840ccb29e980beff1621\n",
      "2017-05-24 06:38:28 - INFO - Demo info logs from celery workers - uuid=427d8a2d7eb647bf9cf59ad704213e8\n",
      "2017-05-24 06:38:28 - INFO - Demo info logs from celery workers - uuid=93c7a418edd447a89318800392add05\n",
      "2017-05-24 06:38:28 - INFO - Demo info logs from celery workers - uuid=d9fa8ae747fc446898be13043797d49\n",
      "2017-05-24 06:38:28 - INFO - Demo info logs from celery workers - uuid=a1fc8c434970469489908ebdbd31118\n",
      "2017-05-24 06:38:28 - INFO - Demo info logs from celery workers - uuid=db23a9cc9c494536bbaa09f4f8f070a\n",
      "2017-05-24 06:38:28 - INFO - Demo info logs from celery workers - uuid=d9dde5fa49f44c04a8ba4e5990677fb\n",
      "2017-05-24 06:38:28 - INFO - Demo info logs from celery workers - uuid=20c0577a6cfa4c9d92d2fa798ef1188\n",
      "2017-05-24 06:38:28 - INFO - Demo info logs from celery workers - uuid=75b215377d924619b1b3b9c01a9f119\n",
      "2017-05-24 06:38:28 - INFO - Demo info logs from celery workers - uuid=afb7256c2de349dd9aa38b1b8b01f2d\n",
      "2017-05-24 06:38:28 - INFO - Demo info logs from celery workers - uuid=87cee4e35160499ca49560d7c0c85d5\n",
      "2017-05-24 06:38:28 - INFO - Demo info logs from celery workers - uuid=6f841da50bfe4662850a09f6299fbc9\n",
      "2017-05-24 06:38:28 - INFO - Demo info logs from celery workers - uuid=eb29413c5dc746d2818982063d6c613\n",
      "2017-05-24 06:38:28 - INFO - Demo info logs from celery workers - uuid=2fd636b6e23f4d209f05a83ae8d6ef0\n",
      "2017-05-24 06:38:28 - INFO - Demo info logs from celery workers - uuid=e6c5f3f333c040499e9a6a8d530716f\n",
      "2017-05-24 06:38:28 - INFO - Demo info logs from celery workers - uuid=061a8f54530546c0827b45fbaa06955\n",
      "2017-05-24 06:38:28 - INFO - Demo info logs from celery workers - uuid=d76f25a2cb5c41638a1c741fbb48229\n",
      "2017-05-24 06:38:28 - INFO - Demo info logs from celery workers - uuid=f6d0a64a41f5427ba02672db494c911\n",
      "2017-05-24 06:38:28 - INFO - Demo info logs from celery workers - uuid=5e7c427eaab946a3871db50790aefbf\n",
      "2017-05-24 06:38:28 - INFO - Demo info logs from celery workers - uuid=f17bd62c8a9d4acbb80c6e635d8bf71\n",
      "2017-05-24 06:38:28 - INFO - Demo info logs from celery workers - uuid=40c679067cc84134822da83b931b081\n",
      "2017-05-24 06:38:28 - INFO - Demo info logs from celery workers - uuid=e194a7fa4acf4b95b43bca93d32883b\n",
      "2017-05-24 06:38:28 - INFO - Demo info logs from celery workers - uuid=78932d799e014291b69833aa919a394\n",
      "2017-05-24 06:38:28 - INFO - Demo info logs from celery workers - uuid=a6eee95461d14b3aa4cb56fa9f7bb42\n",
      "2017-05-24 06:38:28 - INFO - Demo info logs from celery workers - uuid=507bf75f459148268c4224e7aee4c0c\n",
      "2017-05-24 06:38:28 - INFO - Demo info logs from celery workers - uuid=ff3541b5926b4f42a430a2d6fd6adc6\n",
      "2017-05-24 06:38:28 - INFO - Demo info logs from celery workers - uuid=2e82480ae1a14529be7444746057acb\n",
      "2017-05-24 06:38:28 - INFO - Demo info logs from celery workers - uuid=46cbfb98c761424ba45f99730c81456\n",
      "2017-05-24 06:38:28 - INFO - Demo info logs from celery workers - uuid=db0e216d8938432b93fb3a7c7c5dc7b\n"
     ]
    }
   ],
   "source": [
    "anmt(\"Finding latest logs:\")\n",
    "show_logs(limit=50)"
   ]
  },
  {
   "cell_type": "markdown",
   "metadata": {
    "slideshow": {
     "slide_type": "slide"
    }
   },
   "source": [
    "### Appendix G - Terminology and Definitions\n",
    "\n",
    "1. What is a Machine Learning Model?\n",
    "An algorithm is the general approach you will take. The model is what you get when you run the algorithm over your training data and what you use to make predictions on new data. You can generate a new model with the same algorithm with different data, or a different model from the same data with a different algorithm. https://www.quora.com/What-is-the-difference-between-machine-learning-model-and-ML-algorithm\n",
    "1. XGB / eXtreme Gradient Boosting - http://xgboost.readthedocs.io/en/latest/model.html\n",
    "1. Pub/Sub - publisher to subscriber - https://en.wikipedia.org/wiki/Publish%E2%80%93subscribe_pattern\n",
    "1. RDB - https://redis.io/topics/persistence\n",
    "1. Redis - https://redislabs.com/ and https://redis.io/ \n",
    "1. Docker - https://www.docker.com/\n",
    "1. Django Rest Framework - http://www.django-rest-framework.org/\n",
    "1. Celery - http://celery.readthedocs.io/en/latest/\n",
    "1. Jupyter - http://jupyter.org/\n",
    "1. S3 - https://aws.amazon.com/s3/\n",
    "1. Elasticsearch - https://www.elastic.co/\n",
    "1. Logstash - https://www.elastic.co/products/logstash\n",
    "1. Kibana - https://www.elastic.co/products/kibana\n",
    "1. nginx - https://nginx.org/en/"
   ]
  },
  {
   "cell_type": "markdown",
   "metadata": {
    "slideshow": {
     "slide_type": "slide"
    }
   },
   "source": [
    "### Appendix H - Machine learning tools and products\n",
    "\n",
    "1. Powerful tools and predictive systems that take time to master, automate and integrate: https://github.com/dmlc, https://www.tensorflow.org, http://caffe.berkeleyvision.org/, https://github.com/Theano/Theano, https://keras.io/\n",
    "1. Automated cloud platforms with vendor lock: https://aws.amazon.com/machine-learning/, https://azure.microsoft.com/en-us/services/machine-learning/, https://www.ibm.com/watson/\n",
    "1. Interactive notebook technologies - https://jupyter-notebook.readthedocs.io/en/latest/\n",
    "1. Tons of visualization tools"
   ]
  }
 ],
 "metadata": {
  "celltoolbar": "Slideshow",
  "kernelspec": {
   "display_name": "Python 2",
   "language": "python",
   "name": "python2"
  },
  "language_info": {
   "codemirror_mode": {
    "name": "ipython",
    "version": 2
   },
   "file_extension": ".py",
   "mimetype": "text/x-python",
   "name": "python",
   "nbconvert_exporter": "python",
   "pygments_lexer": "ipython2",
   "version": "2.7.13"
  }
 },
 "nbformat": 4,
 "nbformat_minor": 2
}
