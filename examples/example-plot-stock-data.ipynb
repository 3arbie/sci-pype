{
 "cells": [
  {
   "cell_type": "markdown",
   "metadata": {},
   "source": [
    "## Download SPY and use Pandas + Matlab to Plot Pricing by the Close\n",
    "\n",
    "This shows how to download the SPY daily prices from Google Finance as a csv then load it using Pandas for plotting on the Close prices with Matlab.\n"
   ]
  },
  {
   "cell_type": "code",
   "execution_count": null,
   "metadata": {
    "collapsed": false
   },
   "outputs": [],
   "source": [
    "import os, sys, json\n",
    "\n",
    "sys.path.insert(0, os.getenv('ENV_PYTHON_SRC_DIR', '/opt/work/src'))\n",
    "\n",
    "from pycore import PyCore\n",
    "\n",
    "print 'Initializing Python Core'\n",
    "core = PyCore()\n",
    "core.lg('')\n",
    "\n",
    "# the downloader is hardcoded for now to download to this shared volume + file location:\n",
    "csv_file = '/opt/work/data/src/spy.csv'\n",
    "\n",
    "# removing previous csv file if it exists\n",
    "if os.path.exists(csv_file):\n",
    "    core.lg(' - Removing Previous(' + str(csv_file) + ')')\n",
    "    os.system('rm -f ' + str(csv_file) + ')')\n",
    "# end of removing previous\n",
    "\n",
    "downloader_name    = 'download-spy-csv.py'\n",
    "path_to_downloader = os.getenv('ENV_DATA_BIN_DIR', '/opt/work/src') + '/' + downloader_name\n",
    "\n",
    "core.lg('Downloading latest SPY Pricing with Download(' + str(path_to_downloader) + ')')\n",
    "os.system(path_to_downloader)\n",
    "\n",
    "core.lg('')\n",
    "core.lg('Checking CSV is Ready')\n",
    "if os.path.exists(csv_file):\n",
    "    core.lg('  SUCCESS - File Exists: ' + str(csv_file))\n",
    "    \n",
    "    import numpy as np\n",
    "    import matplotlib.pyplot as plt\n",
    "    import pandas as pd\n",
    "    \n",
    "    %matplotlib inline\n",
    "    import numpy as np\n",
    "    core.lg('Reading CSV with Pandas')\n",
    "    # handle date formats and the special tab-character on the header row with utf-8-sig\n",
    "    dateparse = lambda x: pd.datetime.strptime(x, '%d-%b-%y')\n",
    "    data = pd.read_csv(csv_file, parse_dates=[0], date_parser=dateparse, encoding='utf-8-sig')\n",
    "     \n",
    "    core.lg('')\n",
    "    core.lg('Going to the Head')\n",
    "    print data.head()\n",
    "\n",
    "    core.lg('')\n",
    "    core.lg('Describing the Data', 2)\n",
    "    core.lg(data.describe(), 6)\n",
    "    \n",
    "    core.lg('')\n",
    "    \n",
    "    # Set the size of the figure\n",
    "    plt.rcParams['figure.figsize'] = (15.0, 10.0)\n",
    "    \n",
    "    all_dates   = data.columns.values[0]\n",
    "    all_closes  = data.columns.values[4]\n",
    "    core.lg('Plotting the Data X-axis(' + str(all_dates) + ') Y-axis(' + str(all_closes) + ')', 5)\n",
    "    by_close_figure = data.plot(all_dates, all_closes)\n",
    "    \n",
    "else:\n",
    "    core.lg('  ERROR: Failed to find CSV(' + str(csv_file) + ')', 0)\n",
    "# end of if/else download was successful\n"
   ]
  }
 ],
 "metadata": {
  "kernelspec": {
   "display_name": "Python 2",
   "language": "python",
   "name": "python2"
  },
  "language_info": {
   "codemirror_mode": {
    "name": "ipython",
    "version": 2
   },
   "file_extension": ".py",
   "mimetype": "text/x-python",
   "name": "python",
   "nbconvert_exporter": "python",
   "pygments_lexer": "ipython2",
   "version": "2.7.12"
  }
 },
 "nbformat": 4,
 "nbformat_minor": 0
}
