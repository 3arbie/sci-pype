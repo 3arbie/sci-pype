{
 "cells": [
  {
   "cell_type": "markdown",
   "metadata": {},
   "source": [
    "## Jupyter + Downloading the SPY Pricing Data\n",
    "\n",
    "Download the SPY ETF Pricing Data from Google Finance and store it in the shared ```ENV_PYTHON_SRC_DIR``` directory that is mounted from the host and into the Jupyter container. It uses a script that downloads the SPY daily pricing data as a csv file.\n"
   ]
  },
  {
   "cell_type": "code",
   "execution_count": null,
   "metadata": {
    "collapsed": false
   },
   "outputs": [],
   "source": [
    "import os, sys, json\n",
    "\n",
    "sys.path.insert(0, os.getenv('ENV_PYTHON_SRC_DIR', '/opt/work/src'))\n",
    "\n",
    "from pycore import PyCore\n",
    "\n",
    "print 'Initializing Python Core'\n",
    "core = PyCore()\n",
    "\n",
    "# the downloader is hardcoded for now to download to this shared volume + file location:\n",
    "csv_file = '/opt/work/data/src/spy.csv'\n",
    "\n",
    "# removing previous csv file if it exists\n",
    "if os.path.exists(csv_file):\n",
    "    core.lg('Removing Previous(' + str(csv_file) + ')')\n",
    "    os.system('rm -f ' + str(csv_file) + ')')\n",
    "# end of removing previous\n",
    "\n",
    "downloader_name    = 'download-spy-csv.py'\n",
    "path_to_downloader = os.getenv('ENV_BINS', '/opt/work/bins/') + '/' + downloader_name\n",
    "\n",
    "core.lg('Downloading latest SPY Pricing with Download(' + str(path_to_downloader) + ')', 2)\n",
    "os.system(path_to_downloader)\n",
    "\n",
    "core.lg('')\n",
    "core.lg('Checking CSV is Ready')\n",
    "if os.path.exists(csv_file):\n",
    "    core.lg('  SUCCESS - File Exists: ' + str(csv_file), 5)\n",
    "else:\n",
    "    core.lg('  ERROR: Failed to find CSV(' + str(csv_file) + ')', 0)\n",
    "# end of if/else download was successful\n"
   ]
  }
 ],
 "metadata": {
  "kernelspec": {
   "display_name": "Python 2",
   "language": "python",
   "name": "python2"
  },
  "language_info": {
   "codemirror_mode": {
    "name": "ipython",
    "version": 2
   },
   "file_extension": ".py",
   "mimetype": "text/x-python",
   "name": "python",
   "nbconvert_exporter": "python",
   "pygments_lexer": "ipython2",
   "version": "2.7.12"
  }
 },
 "nbformat": 4,
 "nbformat_minor": 0
}
