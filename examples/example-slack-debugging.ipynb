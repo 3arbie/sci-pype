{
 "cells": [
  {
   "cell_type": "markdown",
   "metadata": {},
   "source": [
    "## Jupyter + Slack Driven Development\n",
    "\n",
    "This example shows how environment variables allow the python core to publish a message into Slack to notify the associated user with a message containing the line number and source code that threw the exception.\n"
   ]
  },
  {
   "cell_type": "code",
   "execution_count": null,
   "metadata": {
    "collapsed": false,
    "scrolled": false
   },
   "outputs": [],
   "source": [
    "import os, sys, json\n",
    "\n",
    "sys.path.insert(0, os.getenv('ENV_PYTHON_SRC_DIR', '/opt/work/src'))\n",
    "\n",
    "from pycore import PyCore\n",
    "\n",
    "print 'Initializing Python Core'\n",
    "core = PyCore()\n",
    "\n",
    "print 'These Slack Env variables are set by docker'\n",
    "slackbotname   = str(os.getenv('ENV_SLACK_BOTNAME'))\n",
    "slackchannel   = str(os.getenv('ENV_SLACK_CHANNEL'))\n",
    "slacknotifyuser= str(os.getenv('ENV_SLACK_NOTIFY_USER'))\n",
    "slacktoken     = str(os.getenv('ENV_SLACK_TOKEN'))\n",
    "slackenvname   = str(os.getenv('ENV_SLACK_ENVNAME'))\n",
    "\n",
    "core.lg('Slack Env - Bot(' + slackbotname + ') Channel(' + slackchannel + ') NotifyThisUser(' + slacknotifyuser + ') Token(' + slacktoken + ') Env(' + slackenvname + ')', 1)\n",
    "try:\n",
    "    core.lg('')\n",
    "    core.lg('-----------------------------------------------------------------------------', 2)\n",
    "    core.lg('This will throw an exception and should post a message into the Slack Channel')\n",
    "    core.lg('')\n",
    "    THIS_VARIABLE_DOES_NOT_EXIST\n",
    "except Exception,e:\n",
    "    core.handle_send_slack_internal_ex(e)\n",
    "# end of try/ex\n"
   ]
  }
 ],
 "metadata": {
  "kernelspec": {
   "display_name": "Python 2",
   "language": "python",
   "name": "python2"
  },
  "language_info": {
   "codemirror_mode": {
    "name": "ipython",
    "version": 2
   },
   "file_extension": ".py",
   "mimetype": "text/x-python",
   "name": "python",
   "nbconvert_exporter": "python",
   "pygments_lexer": "ipython2",
   "version": "2.7.12"
  }
 },
 "nbformat": 4,
 "nbformat_minor": 0
}
